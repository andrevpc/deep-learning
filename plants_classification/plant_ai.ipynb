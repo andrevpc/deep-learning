{
 "cells": [
  {
   "cell_type": "code",
   "execution_count": null,
   "metadata": {},
   "outputs": [
    {
     "ename": "",
     "evalue": "",
     "output_type": "error",
     "traceback": [
      "\u001b[1;31mRunning cells with 'c:\\Users\\disrct\\AppData\\Local\\Programs\\Python\\Python311\\python.exe' requires the ipykernel package.\n",
      "\u001b[1;31mRun the following command to install 'ipykernel' into the Python environment. \n",
      "\u001b[1;31mCommand: 'c:/Users/disrct/AppData/Local/Programs/Python/Python311/python.exe -m pip install ipykernel -U --user --force-reinstall'"
     ]
    }
   ],
   "source": [
    "from keras import models\n",
    "from keras import layers\n",
    "from keras import activations\n",
    "from keras import initializers\n",
    "from keras import regularizers\n",
    "from keras import optimizers\n",
    "from keras import losses\n",
    "from keras import metrics\n",
    "from keras import callbacks\n",
    "from keras.preprocessing import image"
   ]
  },
  {
   "cell_type": "code",
   "execution_count": null,
   "metadata": {},
   "outputs": [],
   "source": [
    "model = models.Sequential()\n",
    "model.add(layers.Conv2D(\n",
    "    32, (5, 5),\n",
    "    input_shape = (64, 64, 3)\n",
    "))\n",
    "model.add(layers.MaxPooling2D(\n",
    "    pool_size = (2, 2)\n",
    "))\n",
    "model.add(layers.Conv2D(\n",
    "    16, (5, 5),\n",
    "    input_shape = (30, 30, 3)\n",
    "))\n",
    "model.add(layers.MaxPooling2D(\n",
    "    pool_size = (2, 2)\n",
    "))\n",
    "\n",
    "model.add(layers.Flatten())\n",
    "model.add(layers.Dense(256,\n",
    "    kernel_initializer = initializers.RandomNormal(stddev = 1),\n",
    "    bias_initializer = initializers.Zeros()))\n",
    "model.add(layers.Activation(activations.relu))\n",
    "\n",
    "model.add(layers.Dense(64,\n",
    "    kernel_regularizer = regularizers.L1(1e-4),))\n",
    "model.add(layers.Activation(activations.relu))\n",
    "model.add(layers.Dropout(0.2))\n",
    "\n",
    "model.add(layers.Dense(64))\n",
    "model.add(layers.Activation(activations.relu))\n",
    "\n",
    "model.add(layers.Dense(2))\n",
    "model.add(layers.Activation(activations.softmax))"
   ]
  },
  {
   "cell_type": "code",
   "execution_count": null,
   "metadata": {},
   "outputs": [],
   "source": [
    "model.compile(\n",
    "    optimizer=optimizers.Adam(),\n",
    "    loss=losses.BinaryCrossentropy(),\n",
    "    metrics=[metrics.CategoricalAccuracy(), metrics.Precision()]\n",
    ")"
   ]
  },
  {
   "cell_type": "code",
   "execution_count": null,
   "metadata": {},
   "outputs": [],
   "source": [
    "dataGen = image.ImageDataGenerator(\n",
    "    rescale = 1.0/255,\n",
    "    shear_range = 0.2,\n",
    "    zoom_range = 0.2,\n",
    "    horizontal_flip = True,\n",
    "    vertical_flip = False,\n",
    "\n",
    "    validation_split = 0.2\n",
    ")\n",
    "\n",
    "X_train = dataGen.flow_from_directory(\n",
    "    'PetImages',\n",
    "    target_size = (64, 64),\n",
    "    batch_size = 32,\n",
    "    class_mode = 'categorical',\n",
    "    subset = 'training'\n",
    ")\n",
    "\n",
    "X_tests = dataGen.flow_from_directory(\n",
    "    'PetImages',\n",
    "    target_size = (64, 64),\n",
    "    batch_size = 32,\n",
    "    class_mode = 'categorical',\n",
    "    subset = 'validation'\n",
    ")"
   ]
  },
  {
   "cell_type": "code",
   "execution_count": null,
   "metadata": {},
   "outputs": [],
   "source": [
    "total_data = 19999\n",
    "batchSize = 32\n",
    "\n",
    "model.fit(X_train,\n",
    "          validation_data = X_tests,\n",
    "          steps_per_epoch = total_data / batchSize,\n",
    "          epochs = 50,\n",
    "          validation_steps = (total_data / batchSize) / 10,\n",
    "          callbacks = [\n",
    "            callbacks.ModelCheckpoint(\n",
    "                filepath = 'ModelCheckpoint/model.{epoch:02d}-{val_loss:.2f}.h5'\n",
    "            )\n",
    "          ]\n",
    ")\n",
    "\n",
    "model.save('model')"
   ]
  }
 ],
 "metadata": {
  "kernelspec": {
   "display_name": "Python 3",
   "language": "python",
   "name": "python3"
  },
  "language_info": {
   "codemirror_mode": {
    "name": "ipython",
    "version": 3
   },
   "file_extension": ".py",
   "mimetype": "text/x-python",
   "name": "python",
   "nbconvert_exporter": "python",
   "pygments_lexer": "ipython3",
   "version": "3.11.0"
  }
 },
 "nbformat": 4,
 "nbformat_minor": 2
}
