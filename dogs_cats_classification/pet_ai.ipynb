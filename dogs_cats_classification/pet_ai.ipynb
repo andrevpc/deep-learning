{
 "cells": [
  {
   "cell_type": "code",
   "execution_count": 1,
   "metadata": {},
   "outputs": [
    {
     "name": "stdout",
     "output_type": "stream",
     "text": [
      "WARNING:tensorflow:From C:\\Users\\disrct\\AppData\\Roaming\\Python\\Python311\\site-packages\\keras\\src\\losses.py:2976: The name tf.losses.sparse_softmax_cross_entropy is deprecated. Please use tf.compat.v1.losses.sparse_softmax_cross_entropy instead.\n",
      "\n"
     ]
    }
   ],
   "source": [
    "from keras import models\n",
    "from keras import layers\n",
    "from keras import activations\n",
    "from keras import initializers\n",
    "from keras import regularizers\n",
    "from keras import optimizers\n",
    "from keras import losses\n",
    "from keras import metrics\n",
    "from keras import callbacks\n",
    "from keras.preprocessing import image"
   ]
  },
  {
   "cell_type": "code",
   "execution_count": 49,
   "metadata": {},
   "outputs": [],
   "source": [
    "model = models.Sequential()\n",
    "model.add(layers.Conv2D(\n",
    "    32, (5, 5),\n",
    "    input_shape = (64, 64, 3)\n",
    "))\n",
    "model.add(layers.MaxPooling2D(\n",
    "    pool_size = (2, 2)\n",
    "))\n",
    "model.add(layers.Conv2D(\n",
    "    16, (5, 5),\n",
    "    input_shape = (30, 30, 3)\n",
    "))\n",
    "model.add(layers.MaxPooling2D(\n",
    "    pool_size = (2, 2)\n",
    "))\n",
    "\n",
    "model.add(layers.Flatten())\n",
    "model.add(layers.Dense(256,\n",
    "    kernel_initializer = initializers.RandomNormal(stddev = 1),\n",
    "    bias_initializer = initializers.Zeros()))\n",
    "model.add(layers.Activation(activations.relu))\n",
    "\n",
    "model.add(layers.Dense(64,\n",
    "    kernel_regularizer = regularizers.L1(1e-4),))\n",
    "model.add(layers.Activation(activations.relu))\n",
    "model.add(layers.Dropout(0.2))\n",
    "\n",
    "model.add(layers.Dense(64))\n",
    "model.add(layers.Activation(activations.relu))\n",
    "\n",
    "model.add(layers.Dense(2))\n",
    "model.add(layers.Activation(activations.softmax))"
   ]
  },
  {
   "cell_type": "code",
   "execution_count": 50,
   "metadata": {},
   "outputs": [],
   "source": [
    "model.compile(\n",
    "    optimizer=optimizers.Adam(),\n",
    "    loss=losses.BinaryCrossentropy(),\n",
    "    metrics=[metrics.CategoricalAccuracy(), metrics.Precision()]\n",
    ")"
   ]
  },
  {
   "cell_type": "code",
   "execution_count": 51,
   "metadata": {},
   "outputs": [
    {
     "name": "stdout",
     "output_type": "stream",
     "text": [
      "Found 19999 images belonging to 2 classes.\n",
      "Found 4998 images belonging to 2 classes.\n"
     ]
    }
   ],
   "source": [
    "dataGen = image.ImageDataGenerator(\n",
    "    rescale = 1.0/255,\n",
    "    shear_range = 0.2,\n",
    "    zoom_range = 0.2,\n",
    "    horizontal_flip = True,\n",
    "    vertical_flip = False,\n",
    "\n",
    "    validation_split = 0.2\n",
    ")\n",
    "\n",
    "X_train = dataGen.flow_from_directory(\n",
    "    'PetImages',\n",
    "    target_size = (64, 64),\n",
    "    batch_size = 32,\n",
    "    class_mode = 'categorical',\n",
    "    subset = 'training'\n",
    ")\n",
    "\n",
    "X_tests = dataGen.flow_from_directory(\n",
    "    'PetImages',\n",
    "    target_size = (64, 64),\n",
    "    batch_size = 32,\n",
    "    class_mode = 'categorical',\n",
    "    subset = 'validation'\n",
    ")"
   ]
  },
  {
   "cell_type": "code",
   "execution_count": 52,
   "metadata": {},
   "outputs": [
    {
     "name": "stdout",
     "output_type": "stream",
     "text": [
      "Epoch 1/50\n",
      "473/624 [=====================>........] - ETA: 8s - loss: 0.8372 - categorical_accuracy: 0.5523 - precision_9: 0.5523"
     ]
    },
    {
     "name": "stderr",
     "output_type": "stream",
     "text": [
      "C:\\Users\\disrct\\AppData\\Roaming\\Python\\Python311\\site-packages\\PIL\\TiffImagePlugin.py:866: UserWarning: Truncated File Read\n",
      "  warnings.warn(str(msg))\n"
     ]
    },
    {
     "name": "stdout",
     "output_type": "stream",
     "text": [
      "624/624 [==============================] - 39s 62ms/step - loss: 0.8202 - categorical_accuracy: 0.5568 - precision_9: 0.5568 - val_loss: 0.7487 - val_categorical_accuracy: 0.6052 - val_precision_9: 0.6052\n",
      "Epoch 2/50\n",
      "  2/624 [..............................] - ETA: 33s - loss: 0.7447 - categorical_accuracy: 0.5938 - precision_9: 0.5938"
     ]
    },
    {
     "name": "stderr",
     "output_type": "stream",
     "text": [
      "C:\\Users\\disrct\\AppData\\Roaming\\Python\\Python311\\site-packages\\keras\\src\\engine\\training.py:3103: UserWarning: You are saving your model as an HDF5 file via `model.save()`. This file format is considered legacy. We recommend using instead the native Keras format, e.g. `model.save('my_model.keras')`.\n",
      "  saving_api.save_model(\n"
     ]
    },
    {
     "name": "stdout",
     "output_type": "stream",
     "text": [
      "624/624 [==============================] - 39s 62ms/step - loss: 0.7395 - categorical_accuracy: 0.5966 - precision_9: 0.5966 - val_loss: 0.7070 - val_categorical_accuracy: 0.6399 - val_precision_9: 0.6399\n",
      "Epoch 3/50\n",
      "624/624 [==============================] - 38s 61ms/step - loss: 0.6951 - categorical_accuracy: 0.6370 - precision_9: 0.6370 - val_loss: 0.6749 - val_categorical_accuracy: 0.6533 - val_precision_9: 0.6533\n",
      "Epoch 4/50\n",
      "624/624 [==============================] - 38s 61ms/step - loss: 0.6630 - categorical_accuracy: 0.6601 - precision_9: 0.6601 - val_loss: 0.6350 - val_categorical_accuracy: 0.6776 - val_precision_9: 0.6776\n",
      "Epoch 5/50\n",
      "624/624 [==============================] - 38s 61ms/step - loss: 0.6288 - categorical_accuracy: 0.6834 - precision_9: 0.6834 - val_loss: 0.7415 - val_categorical_accuracy: 0.5818 - val_precision_9: 0.5818\n",
      "Epoch 6/50\n",
      "624/624 [==============================] - 38s 61ms/step - loss: 0.6037 - categorical_accuracy: 0.7022 - precision_9: 0.7022 - val_loss: 0.5932 - val_categorical_accuracy: 0.7192 - val_precision_9: 0.7192\n",
      "Epoch 7/50\n",
      "624/624 [==============================] - 39s 63ms/step - loss: 0.5774 - categorical_accuracy: 0.7147 - precision_9: 0.7147 - val_loss: 0.5684 - val_categorical_accuracy: 0.7202 - val_precision_9: 0.7202\n",
      "Epoch 8/50\n",
      "624/624 [==============================] - 38s 61ms/step - loss: 0.5585 - categorical_accuracy: 0.7256 - precision_9: 0.7256 - val_loss: 0.5512 - val_categorical_accuracy: 0.7396 - val_precision_9: 0.7396\n",
      "Epoch 9/50\n",
      "624/624 [==============================] - 38s 60ms/step - loss: 0.5464 - categorical_accuracy: 0.7264 - precision_9: 0.7264 - val_loss: 0.5281 - val_categorical_accuracy: 0.7445 - val_precision_9: 0.7445\n",
      "Epoch 10/50\n",
      "624/624 [==============================] - 38s 61ms/step - loss: 0.5345 - categorical_accuracy: 0.7399 - precision_9: 0.7399 - val_loss: 0.5203 - val_categorical_accuracy: 0.7550 - val_precision_9: 0.7550\n",
      "Epoch 11/50\n",
      "624/624 [==============================] - 38s 60ms/step - loss: 0.5300 - categorical_accuracy: 0.7458 - precision_9: 0.7458 - val_loss: 0.5365 - val_categorical_accuracy: 0.7336 - val_precision_9: 0.7336\n",
      "Epoch 12/50\n",
      "624/624 [==============================] - 38s 61ms/step - loss: 0.5169 - categorical_accuracy: 0.7526 - precision_9: 0.7526 - val_loss: 0.5420 - val_categorical_accuracy: 0.7282 - val_precision_9: 0.7282\n",
      "Epoch 13/50\n",
      "624/624 [==============================] - 39s 62ms/step - loss: 0.5157 - categorical_accuracy: 0.7513 - precision_9: 0.7513 - val_loss: 0.5239 - val_categorical_accuracy: 0.7555 - val_precision_9: 0.7555\n",
      "Epoch 14/50\n",
      "624/624 [==============================] - 39s 62ms/step - loss: 0.5061 - categorical_accuracy: 0.7595 - precision_9: 0.7595 - val_loss: 0.5259 - val_categorical_accuracy: 0.7455 - val_precision_9: 0.7455\n",
      "Epoch 15/50\n",
      "624/624 [==============================] - 38s 61ms/step - loss: 0.4991 - categorical_accuracy: 0.7675 - precision_9: 0.7675 - val_loss: 0.4988 - val_categorical_accuracy: 0.7728 - val_precision_9: 0.7728\n",
      "Epoch 16/50\n",
      "624/624 [==============================] - 42s 67ms/step - loss: 0.4946 - categorical_accuracy: 0.7689 - precision_9: 0.7689 - val_loss: 0.5114 - val_categorical_accuracy: 0.7649 - val_precision_9: 0.7649\n",
      "Epoch 17/50\n",
      "624/624 [==============================] - 41s 66ms/step - loss: 0.4866 - categorical_accuracy: 0.7708 - precision_9: 0.7708 - val_loss: 0.5203 - val_categorical_accuracy: 0.7455 - val_precision_9: 0.7455\n",
      "Epoch 18/50\n",
      "624/624 [==============================] - 42s 67ms/step - loss: 0.4838 - categorical_accuracy: 0.7762 - precision_9: 0.7762 - val_loss: 0.4900 - val_categorical_accuracy: 0.7659 - val_precision_9: 0.7659\n",
      "Epoch 19/50\n",
      "624/624 [==============================] - 42s 67ms/step - loss: 0.4801 - categorical_accuracy: 0.7810 - precision_9: 0.7810 - val_loss: 0.5003 - val_categorical_accuracy: 0.7748 - val_precision_9: 0.7748\n",
      "Epoch 20/50\n",
      "624/624 [==============================] - 38s 62ms/step - loss: 0.4769 - categorical_accuracy: 0.7791 - precision_9: 0.7791 - val_loss: 0.5035 - val_categorical_accuracy: 0.7594 - val_precision_9: 0.7594\n",
      "Epoch 21/50\n",
      "624/624 [==============================] - 39s 62ms/step - loss: 0.4735 - categorical_accuracy: 0.7805 - precision_9: 0.7805 - val_loss: 0.4909 - val_categorical_accuracy: 0.7788 - val_precision_9: 0.7788\n",
      "Epoch 22/50\n",
      "624/624 [==============================] - 39s 62ms/step - loss: 0.4637 - categorical_accuracy: 0.7864 - precision_9: 0.7864 - val_loss: 0.4846 - val_categorical_accuracy: 0.7743 - val_precision_9: 0.7743\n",
      "Epoch 23/50\n",
      "624/624 [==============================] - 38s 61ms/step - loss: 0.4634 - categorical_accuracy: 0.7883 - precision_9: 0.7883 - val_loss: 0.4841 - val_categorical_accuracy: 0.7753 - val_precision_9: 0.7753\n",
      "Epoch 24/50\n",
      "624/624 [==============================] - 38s 61ms/step - loss: 0.4568 - categorical_accuracy: 0.7959 - precision_9: 0.7959 - val_loss: 0.5167 - val_categorical_accuracy: 0.7550 - val_precision_9: 0.7550\n",
      "Epoch 25/50\n",
      "624/624 [==============================] - 39s 62ms/step - loss: 0.4538 - categorical_accuracy: 0.7958 - precision_9: 0.7958 - val_loss: 0.4690 - val_categorical_accuracy: 0.7922 - val_precision_9: 0.7922\n",
      "Epoch 26/50\n",
      "624/624 [==============================] - 38s 61ms/step - loss: 0.4511 - categorical_accuracy: 0.7968 - precision_9: 0.7968 - val_loss: 0.5001 - val_categorical_accuracy: 0.7693 - val_precision_9: 0.7693\n",
      "Epoch 27/50\n",
      "624/624 [==============================] - 38s 61ms/step - loss: 0.4491 - categorical_accuracy: 0.7980 - precision_9: 0.7980 - val_loss: 0.4889 - val_categorical_accuracy: 0.7698 - val_precision_9: 0.7698\n",
      "Epoch 28/50\n",
      "624/624 [==============================] - 38s 62ms/step - loss: 0.4373 - categorical_accuracy: 0.8027 - precision_9: 0.8027 - val_loss: 0.4825 - val_categorical_accuracy: 0.7748 - val_precision_9: 0.7748\n",
      "Epoch 29/50\n",
      "624/624 [==============================] - 38s 61ms/step - loss: 0.4372 - categorical_accuracy: 0.8048 - precision_9: 0.8048 - val_loss: 0.4940 - val_categorical_accuracy: 0.7708 - val_precision_9: 0.7708\n",
      "Epoch 30/50\n",
      "624/624 [==============================] - 38s 61ms/step - loss: 0.4369 - categorical_accuracy: 0.8028 - precision_9: 0.8028 - val_loss: 0.4680 - val_categorical_accuracy: 0.7808 - val_precision_9: 0.7808\n",
      "Epoch 31/50\n",
      "624/624 [==============================] - 39s 62ms/step - loss: 0.4265 - categorical_accuracy: 0.8086 - precision_9: 0.8086 - val_loss: 0.4768 - val_categorical_accuracy: 0.7798 - val_precision_9: 0.7798\n",
      "Epoch 32/50\n",
      "624/624 [==============================] - 39s 63ms/step - loss: 0.4211 - categorical_accuracy: 0.8139 - precision_9: 0.8139 - val_loss: 0.4783 - val_categorical_accuracy: 0.7768 - val_precision_9: 0.7768\n",
      "Epoch 33/50\n",
      "624/624 [==============================] - 38s 61ms/step - loss: 0.4166 - categorical_accuracy: 0.8191 - precision_9: 0.8191 - val_loss: 0.4766 - val_categorical_accuracy: 0.7808 - val_precision_9: 0.7808\n",
      "Epoch 34/50\n",
      "624/624 [==============================] - 38s 61ms/step - loss: 0.4155 - categorical_accuracy: 0.8177 - precision_9: 0.8177 - val_loss: 0.4646 - val_categorical_accuracy: 0.7897 - val_precision_9: 0.7897\n",
      "Epoch 35/50\n",
      "624/624 [==============================] - 38s 61ms/step - loss: 0.4112 - categorical_accuracy: 0.8187 - precision_9: 0.8187 - val_loss: 0.4504 - val_categorical_accuracy: 0.7971 - val_precision_9: 0.7971\n",
      "Epoch 36/50\n",
      "624/624 [==============================] - 38s 61ms/step - loss: 0.4050 - categorical_accuracy: 0.8262 - precision_9: 0.8262 - val_loss: 0.4843 - val_categorical_accuracy: 0.7837 - val_precision_9: 0.7837\n",
      "Epoch 37/50\n",
      "624/624 [==============================] - 506s 811ms/step - loss: 0.4025 - categorical_accuracy: 0.8246 - precision_9: 0.8246 - val_loss: 0.4669 - val_categorical_accuracy: 0.7882 - val_precision_9: 0.7882\n",
      "Epoch 38/50\n",
      "469/624 [=====================>........] - ETA: 9s - loss: 0.4026 - categorical_accuracy: 0.8295 - precision_9: 0.8295"
     ]
    },
    {
     "ename": "KeyboardInterrupt",
     "evalue": "",
     "output_type": "error",
     "traceback": [
      "\u001b[1;31m---------------------------------------------------------------------------\u001b[0m",
      "\u001b[1;31mKeyboardInterrupt\u001b[0m                         Traceback (most recent call last)",
      "\u001b[1;32mc:\\Users\\disrct\\Desktop\\Deep\\Pet\\PetAi.ipynb Cell 5\u001b[0m line \u001b[0;36m4\n\u001b[0;32m      <a href='vscode-notebook-cell:/c%3A/Users/disrct/Desktop/Deep/Pet/PetAi.ipynb#W4sZmlsZQ%3D%3D?line=0'>1</a>\u001b[0m total_data \u001b[39m=\u001b[39m \u001b[39m19999\u001b[39m\n\u001b[0;32m      <a href='vscode-notebook-cell:/c%3A/Users/disrct/Desktop/Deep/Pet/PetAi.ipynb#W4sZmlsZQ%3D%3D?line=1'>2</a>\u001b[0m batchSize \u001b[39m=\u001b[39m \u001b[39m32\u001b[39m\n\u001b[1;32m----> <a href='vscode-notebook-cell:/c%3A/Users/disrct/Desktop/Deep/Pet/PetAi.ipynb#W4sZmlsZQ%3D%3D?line=3'>4</a>\u001b[0m model\u001b[39m.\u001b[39;49mfit(X_train,\n\u001b[0;32m      <a href='vscode-notebook-cell:/c%3A/Users/disrct/Desktop/Deep/Pet/PetAi.ipynb#W4sZmlsZQ%3D%3D?line=4'>5</a>\u001b[0m           validation_data \u001b[39m=\u001b[39;49m X_tests,\n\u001b[0;32m      <a href='vscode-notebook-cell:/c%3A/Users/disrct/Desktop/Deep/Pet/PetAi.ipynb#W4sZmlsZQ%3D%3D?line=5'>6</a>\u001b[0m           steps_per_epoch \u001b[39m=\u001b[39;49m total_data \u001b[39m/\u001b[39;49m batchSize,\n\u001b[0;32m      <a href='vscode-notebook-cell:/c%3A/Users/disrct/Desktop/Deep/Pet/PetAi.ipynb#W4sZmlsZQ%3D%3D?line=6'>7</a>\u001b[0m           epochs \u001b[39m=\u001b[39;49m \u001b[39m50\u001b[39;49m,\n\u001b[0;32m      <a href='vscode-notebook-cell:/c%3A/Users/disrct/Desktop/Deep/Pet/PetAi.ipynb#W4sZmlsZQ%3D%3D?line=7'>8</a>\u001b[0m           validation_steps \u001b[39m=\u001b[39;49m (total_data \u001b[39m/\u001b[39;49m batchSize) \u001b[39m/\u001b[39;49m \u001b[39m10\u001b[39;49m,\n\u001b[0;32m      <a href='vscode-notebook-cell:/c%3A/Users/disrct/Desktop/Deep/Pet/PetAi.ipynb#W4sZmlsZQ%3D%3D?line=8'>9</a>\u001b[0m           callbacks \u001b[39m=\u001b[39;49m [\n\u001b[0;32m     <a href='vscode-notebook-cell:/c%3A/Users/disrct/Desktop/Deep/Pet/PetAi.ipynb#W4sZmlsZQ%3D%3D?line=9'>10</a>\u001b[0m             callbacks\u001b[39m.\u001b[39;49mModelCheckpoint(\n\u001b[0;32m     <a href='vscode-notebook-cell:/c%3A/Users/disrct/Desktop/Deep/Pet/PetAi.ipynb#W4sZmlsZQ%3D%3D?line=10'>11</a>\u001b[0m                 filepath \u001b[39m=\u001b[39;49m \u001b[39m'\u001b[39;49m\u001b[39mModelCheckpoint/model.\u001b[39;49m\u001b[39m{epoch:02d}\u001b[39;49;00m\u001b[39m-\u001b[39;49m\u001b[39m{val_loss:.2f}\u001b[39;49;00m\u001b[39m.h5\u001b[39;49m\u001b[39m'\u001b[39;49m\n\u001b[0;32m     <a href='vscode-notebook-cell:/c%3A/Users/disrct/Desktop/Deep/Pet/PetAi.ipynb#W4sZmlsZQ%3D%3D?line=11'>12</a>\u001b[0m             )\n\u001b[0;32m     <a href='vscode-notebook-cell:/c%3A/Users/disrct/Desktop/Deep/Pet/PetAi.ipynb#W4sZmlsZQ%3D%3D?line=12'>13</a>\u001b[0m           ]\n\u001b[0;32m     <a href='vscode-notebook-cell:/c%3A/Users/disrct/Desktop/Deep/Pet/PetAi.ipynb#W4sZmlsZQ%3D%3D?line=13'>14</a>\u001b[0m )\n\u001b[0;32m     <a href='vscode-notebook-cell:/c%3A/Users/disrct/Desktop/Deep/Pet/PetAi.ipynb#W4sZmlsZQ%3D%3D?line=15'>16</a>\u001b[0m model\u001b[39m.\u001b[39msave(\u001b[39m'\u001b[39m\u001b[39mmodel\u001b[39m\u001b[39m'\u001b[39m)\n",
      "File \u001b[1;32m~\\AppData\\Roaming\\Python\\Python311\\site-packages\\keras\\src\\utils\\traceback_utils.py:65\u001b[0m, in \u001b[0;36mfilter_traceback.<locals>.error_handler\u001b[1;34m(*args, **kwargs)\u001b[0m\n\u001b[0;32m     63\u001b[0m filtered_tb \u001b[39m=\u001b[39m \u001b[39mNone\u001b[39;00m\n\u001b[0;32m     64\u001b[0m \u001b[39mtry\u001b[39;00m:\n\u001b[1;32m---> 65\u001b[0m     \u001b[39mreturn\u001b[39;00m fn(\u001b[39m*\u001b[39;49margs, \u001b[39m*\u001b[39;49m\u001b[39m*\u001b[39;49mkwargs)\n\u001b[0;32m     66\u001b[0m \u001b[39mexcept\u001b[39;00m \u001b[39mException\u001b[39;00m \u001b[39mas\u001b[39;00m e:\n\u001b[0;32m     67\u001b[0m     filtered_tb \u001b[39m=\u001b[39m _process_traceback_frames(e\u001b[39m.\u001b[39m__traceback__)\n",
      "File \u001b[1;32m~\\AppData\\Roaming\\Python\\Python311\\site-packages\\keras\\src\\engine\\training.py:1807\u001b[0m, in \u001b[0;36mModel.fit\u001b[1;34m(self, x, y, batch_size, epochs, verbose, callbacks, validation_split, validation_data, shuffle, class_weight, sample_weight, initial_epoch, steps_per_epoch, validation_steps, validation_batch_size, validation_freq, max_queue_size, workers, use_multiprocessing)\u001b[0m\n\u001b[0;32m   1799\u001b[0m \u001b[39mwith\u001b[39;00m tf\u001b[39m.\u001b[39mprofiler\u001b[39m.\u001b[39mexperimental\u001b[39m.\u001b[39mTrace(\n\u001b[0;32m   1800\u001b[0m     \u001b[39m\"\u001b[39m\u001b[39mtrain\u001b[39m\u001b[39m\"\u001b[39m,\n\u001b[0;32m   1801\u001b[0m     epoch_num\u001b[39m=\u001b[39mepoch,\n\u001b[1;32m   (...)\u001b[0m\n\u001b[0;32m   1804\u001b[0m     _r\u001b[39m=\u001b[39m\u001b[39m1\u001b[39m,\n\u001b[0;32m   1805\u001b[0m ):\n\u001b[0;32m   1806\u001b[0m     callbacks\u001b[39m.\u001b[39mon_train_batch_begin(step)\n\u001b[1;32m-> 1807\u001b[0m     tmp_logs \u001b[39m=\u001b[39m \u001b[39mself\u001b[39;49m\u001b[39m.\u001b[39;49mtrain_function(iterator)\n\u001b[0;32m   1808\u001b[0m     \u001b[39mif\u001b[39;00m data_handler\u001b[39m.\u001b[39mshould_sync:\n\u001b[0;32m   1809\u001b[0m         context\u001b[39m.\u001b[39masync_wait()\n",
      "File \u001b[1;32m~\\AppData\\Roaming\\Python\\Python311\\site-packages\\tensorflow\\python\\util\\traceback_utils.py:150\u001b[0m, in \u001b[0;36mfilter_traceback.<locals>.error_handler\u001b[1;34m(*args, **kwargs)\u001b[0m\n\u001b[0;32m    148\u001b[0m filtered_tb \u001b[39m=\u001b[39m \u001b[39mNone\u001b[39;00m\n\u001b[0;32m    149\u001b[0m \u001b[39mtry\u001b[39;00m:\n\u001b[1;32m--> 150\u001b[0m   \u001b[39mreturn\u001b[39;00m fn(\u001b[39m*\u001b[39;49margs, \u001b[39m*\u001b[39;49m\u001b[39m*\u001b[39;49mkwargs)\n\u001b[0;32m    151\u001b[0m \u001b[39mexcept\u001b[39;00m \u001b[39mException\u001b[39;00m \u001b[39mas\u001b[39;00m e:\n\u001b[0;32m    152\u001b[0m   filtered_tb \u001b[39m=\u001b[39m _process_traceback_frames(e\u001b[39m.\u001b[39m__traceback__)\n",
      "File \u001b[1;32m~\\AppData\\Roaming\\Python\\Python311\\site-packages\\tensorflow\\python\\eager\\polymorphic_function\\polymorphic_function.py:832\u001b[0m, in \u001b[0;36mFunction.__call__\u001b[1;34m(self, *args, **kwds)\u001b[0m\n\u001b[0;32m    829\u001b[0m compiler \u001b[39m=\u001b[39m \u001b[39m\"\u001b[39m\u001b[39mxla\u001b[39m\u001b[39m\"\u001b[39m \u001b[39mif\u001b[39;00m \u001b[39mself\u001b[39m\u001b[39m.\u001b[39m_jit_compile \u001b[39melse\u001b[39;00m \u001b[39m\"\u001b[39m\u001b[39mnonXla\u001b[39m\u001b[39m\"\u001b[39m\n\u001b[0;32m    831\u001b[0m \u001b[39mwith\u001b[39;00m OptionalXlaContext(\u001b[39mself\u001b[39m\u001b[39m.\u001b[39m_jit_compile):\n\u001b[1;32m--> 832\u001b[0m   result \u001b[39m=\u001b[39m \u001b[39mself\u001b[39;49m\u001b[39m.\u001b[39;49m_call(\u001b[39m*\u001b[39;49margs, \u001b[39m*\u001b[39;49m\u001b[39m*\u001b[39;49mkwds)\n\u001b[0;32m    834\u001b[0m new_tracing_count \u001b[39m=\u001b[39m \u001b[39mself\u001b[39m\u001b[39m.\u001b[39mexperimental_get_tracing_count()\n\u001b[0;32m    835\u001b[0m without_tracing \u001b[39m=\u001b[39m (tracing_count \u001b[39m==\u001b[39m new_tracing_count)\n",
      "File \u001b[1;32m~\\AppData\\Roaming\\Python\\Python311\\site-packages\\tensorflow\\python\\eager\\polymorphic_function\\polymorphic_function.py:868\u001b[0m, in \u001b[0;36mFunction._call\u001b[1;34m(self, *args, **kwds)\u001b[0m\n\u001b[0;32m    865\u001b[0m   \u001b[39mself\u001b[39m\u001b[39m.\u001b[39m_lock\u001b[39m.\u001b[39mrelease()\n\u001b[0;32m    866\u001b[0m   \u001b[39m# In this case we have created variables on the first call, so we run the\u001b[39;00m\n\u001b[0;32m    867\u001b[0m   \u001b[39m# defunned version which is guaranteed to never create variables.\u001b[39;00m\n\u001b[1;32m--> 868\u001b[0m   \u001b[39mreturn\u001b[39;00m tracing_compilation\u001b[39m.\u001b[39;49mcall_function(\n\u001b[0;32m    869\u001b[0m       args, kwds, \u001b[39mself\u001b[39;49m\u001b[39m.\u001b[39;49m_no_variable_creation_config\n\u001b[0;32m    870\u001b[0m   )\n\u001b[0;32m    871\u001b[0m \u001b[39melif\u001b[39;00m \u001b[39mself\u001b[39m\u001b[39m.\u001b[39m_variable_creation_config \u001b[39mis\u001b[39;00m \u001b[39mnot\u001b[39;00m \u001b[39mNone\u001b[39;00m:\n\u001b[0;32m    872\u001b[0m   \u001b[39m# Release the lock early so that multiple threads can perform the call\u001b[39;00m\n\u001b[0;32m    873\u001b[0m   \u001b[39m# in parallel.\u001b[39;00m\n\u001b[0;32m    874\u001b[0m   \u001b[39mself\u001b[39m\u001b[39m.\u001b[39m_lock\u001b[39m.\u001b[39mrelease()\n",
      "File \u001b[1;32m~\\AppData\\Roaming\\Python\\Python311\\site-packages\\tensorflow\\python\\eager\\polymorphic_function\\tracing_compilation.py:139\u001b[0m, in \u001b[0;36mcall_function\u001b[1;34m(args, kwargs, tracing_options)\u001b[0m\n\u001b[0;32m    137\u001b[0m bound_args \u001b[39m=\u001b[39m function\u001b[39m.\u001b[39mfunction_type\u001b[39m.\u001b[39mbind(\u001b[39m*\u001b[39margs, \u001b[39m*\u001b[39m\u001b[39m*\u001b[39mkwargs)\n\u001b[0;32m    138\u001b[0m flat_inputs \u001b[39m=\u001b[39m function\u001b[39m.\u001b[39mfunction_type\u001b[39m.\u001b[39munpack_inputs(bound_args)\n\u001b[1;32m--> 139\u001b[0m \u001b[39mreturn\u001b[39;00m function\u001b[39m.\u001b[39;49m_call_flat(  \u001b[39m# pylint: disable=protected-access\u001b[39;49;00m\n\u001b[0;32m    140\u001b[0m     flat_inputs, captured_inputs\u001b[39m=\u001b[39;49mfunction\u001b[39m.\u001b[39;49mcaptured_inputs\n\u001b[0;32m    141\u001b[0m )\n",
      "File \u001b[1;32m~\\AppData\\Roaming\\Python\\Python311\\site-packages\\tensorflow\\python\\eager\\polymorphic_function\\concrete_function.py:1323\u001b[0m, in \u001b[0;36mConcreteFunction._call_flat\u001b[1;34m(self, tensor_inputs, captured_inputs)\u001b[0m\n\u001b[0;32m   1319\u001b[0m possible_gradient_type \u001b[39m=\u001b[39m gradients_util\u001b[39m.\u001b[39mPossibleTapeGradientTypes(args)\n\u001b[0;32m   1320\u001b[0m \u001b[39mif\u001b[39;00m (possible_gradient_type \u001b[39m==\u001b[39m gradients_util\u001b[39m.\u001b[39mPOSSIBLE_GRADIENT_TYPES_NONE\n\u001b[0;32m   1321\u001b[0m     \u001b[39mand\u001b[39;00m executing_eagerly):\n\u001b[0;32m   1322\u001b[0m   \u001b[39m# No tape is watching; skip to running the function.\u001b[39;00m\n\u001b[1;32m-> 1323\u001b[0m   \u001b[39mreturn\u001b[39;00m \u001b[39mself\u001b[39;49m\u001b[39m.\u001b[39;49m_inference_function\u001b[39m.\u001b[39;49mcall_preflattened(args)\n\u001b[0;32m   1324\u001b[0m forward_backward \u001b[39m=\u001b[39m \u001b[39mself\u001b[39m\u001b[39m.\u001b[39m_select_forward_and_backward_functions(\n\u001b[0;32m   1325\u001b[0m     args,\n\u001b[0;32m   1326\u001b[0m     possible_gradient_type,\n\u001b[0;32m   1327\u001b[0m     executing_eagerly)\n\u001b[0;32m   1328\u001b[0m forward_function, args_with_tangents \u001b[39m=\u001b[39m forward_backward\u001b[39m.\u001b[39mforward()\n",
      "File \u001b[1;32m~\\AppData\\Roaming\\Python\\Python311\\site-packages\\tensorflow\\python\\eager\\polymorphic_function\\atomic_function.py:216\u001b[0m, in \u001b[0;36mAtomicFunction.call_preflattened\u001b[1;34m(self, args)\u001b[0m\n\u001b[0;32m    214\u001b[0m \u001b[39mdef\u001b[39;00m \u001b[39mcall_preflattened\u001b[39m(\u001b[39mself\u001b[39m, args: Sequence[core\u001b[39m.\u001b[39mTensor]) \u001b[39m-\u001b[39m\u001b[39m>\u001b[39m Any:\n\u001b[0;32m    215\u001b[0m \u001b[39m  \u001b[39m\u001b[39m\"\"\"Calls with flattened tensor inputs and returns the structured output.\"\"\"\u001b[39;00m\n\u001b[1;32m--> 216\u001b[0m   flat_outputs \u001b[39m=\u001b[39m \u001b[39mself\u001b[39;49m\u001b[39m.\u001b[39;49mcall_flat(\u001b[39m*\u001b[39;49margs)\n\u001b[0;32m    217\u001b[0m   \u001b[39mreturn\u001b[39;00m \u001b[39mself\u001b[39m\u001b[39m.\u001b[39mfunction_type\u001b[39m.\u001b[39mpack_output(flat_outputs)\n",
      "File \u001b[1;32m~\\AppData\\Roaming\\Python\\Python311\\site-packages\\tensorflow\\python\\eager\\polymorphic_function\\atomic_function.py:251\u001b[0m, in \u001b[0;36mAtomicFunction.call_flat\u001b[1;34m(self, *args)\u001b[0m\n\u001b[0;32m    249\u001b[0m \u001b[39mwith\u001b[39;00m record\u001b[39m.\u001b[39mstop_recording():\n\u001b[0;32m    250\u001b[0m   \u001b[39mif\u001b[39;00m \u001b[39mself\u001b[39m\u001b[39m.\u001b[39m_bound_context\u001b[39m.\u001b[39mexecuting_eagerly():\n\u001b[1;32m--> 251\u001b[0m     outputs \u001b[39m=\u001b[39m \u001b[39mself\u001b[39;49m\u001b[39m.\u001b[39;49m_bound_context\u001b[39m.\u001b[39;49mcall_function(\n\u001b[0;32m    252\u001b[0m         \u001b[39mself\u001b[39;49m\u001b[39m.\u001b[39;49mname,\n\u001b[0;32m    253\u001b[0m         \u001b[39mlist\u001b[39;49m(args),\n\u001b[0;32m    254\u001b[0m         \u001b[39mlen\u001b[39;49m(\u001b[39mself\u001b[39;49m\u001b[39m.\u001b[39;49mfunction_type\u001b[39m.\u001b[39;49mflat_outputs),\n\u001b[0;32m    255\u001b[0m     )\n\u001b[0;32m    256\u001b[0m   \u001b[39melse\u001b[39;00m:\n\u001b[0;32m    257\u001b[0m     outputs \u001b[39m=\u001b[39m make_call_op_in_graph(\n\u001b[0;32m    258\u001b[0m         \u001b[39mself\u001b[39m,\n\u001b[0;32m    259\u001b[0m         \u001b[39mlist\u001b[39m(args),\n\u001b[0;32m    260\u001b[0m         \u001b[39mself\u001b[39m\u001b[39m.\u001b[39m_bound_context\u001b[39m.\u001b[39mfunction_call_options\u001b[39m.\u001b[39mas_attrs(),\n\u001b[0;32m    261\u001b[0m     )\n",
      "File \u001b[1;32m~\\AppData\\Roaming\\Python\\Python311\\site-packages\\tensorflow\\python\\eager\\context.py:1486\u001b[0m, in \u001b[0;36mContext.call_function\u001b[1;34m(self, name, tensor_inputs, num_outputs)\u001b[0m\n\u001b[0;32m   1484\u001b[0m cancellation_context \u001b[39m=\u001b[39m cancellation\u001b[39m.\u001b[39mcontext()\n\u001b[0;32m   1485\u001b[0m \u001b[39mif\u001b[39;00m cancellation_context \u001b[39mis\u001b[39;00m \u001b[39mNone\u001b[39;00m:\n\u001b[1;32m-> 1486\u001b[0m   outputs \u001b[39m=\u001b[39m execute\u001b[39m.\u001b[39;49mexecute(\n\u001b[0;32m   1487\u001b[0m       name\u001b[39m.\u001b[39;49mdecode(\u001b[39m\"\u001b[39;49m\u001b[39mutf-8\u001b[39;49m\u001b[39m\"\u001b[39;49m),\n\u001b[0;32m   1488\u001b[0m       num_outputs\u001b[39m=\u001b[39;49mnum_outputs,\n\u001b[0;32m   1489\u001b[0m       inputs\u001b[39m=\u001b[39;49mtensor_inputs,\n\u001b[0;32m   1490\u001b[0m       attrs\u001b[39m=\u001b[39;49mattrs,\n\u001b[0;32m   1491\u001b[0m       ctx\u001b[39m=\u001b[39;49m\u001b[39mself\u001b[39;49m,\n\u001b[0;32m   1492\u001b[0m   )\n\u001b[0;32m   1493\u001b[0m \u001b[39melse\u001b[39;00m:\n\u001b[0;32m   1494\u001b[0m   outputs \u001b[39m=\u001b[39m execute\u001b[39m.\u001b[39mexecute_with_cancellation(\n\u001b[0;32m   1495\u001b[0m       name\u001b[39m.\u001b[39mdecode(\u001b[39m\"\u001b[39m\u001b[39mutf-8\u001b[39m\u001b[39m\"\u001b[39m),\n\u001b[0;32m   1496\u001b[0m       num_outputs\u001b[39m=\u001b[39mnum_outputs,\n\u001b[1;32m   (...)\u001b[0m\n\u001b[0;32m   1500\u001b[0m       cancellation_manager\u001b[39m=\u001b[39mcancellation_context,\n\u001b[0;32m   1501\u001b[0m   )\n",
      "File \u001b[1;32m~\\AppData\\Roaming\\Python\\Python311\\site-packages\\tensorflow\\python\\eager\\execute.py:53\u001b[0m, in \u001b[0;36mquick_execute\u001b[1;34m(op_name, num_outputs, inputs, attrs, ctx, name)\u001b[0m\n\u001b[0;32m     51\u001b[0m \u001b[39mtry\u001b[39;00m:\n\u001b[0;32m     52\u001b[0m   ctx\u001b[39m.\u001b[39mensure_initialized()\n\u001b[1;32m---> 53\u001b[0m   tensors \u001b[39m=\u001b[39m pywrap_tfe\u001b[39m.\u001b[39;49mTFE_Py_Execute(ctx\u001b[39m.\u001b[39;49m_handle, device_name, op_name,\n\u001b[0;32m     54\u001b[0m                                       inputs, attrs, num_outputs)\n\u001b[0;32m     55\u001b[0m \u001b[39mexcept\u001b[39;00m core\u001b[39m.\u001b[39m_NotOkStatusException \u001b[39mas\u001b[39;00m e:\n\u001b[0;32m     56\u001b[0m   \u001b[39mif\u001b[39;00m name \u001b[39mis\u001b[39;00m \u001b[39mnot\u001b[39;00m \u001b[39mNone\u001b[39;00m:\n",
      "\u001b[1;31mKeyboardInterrupt\u001b[0m: "
     ]
    }
   ],
   "source": [
    "total_data = 19999\n",
    "batchSize = 32\n",
    "\n",
    "model.fit(X_train,\n",
    "          validation_data = X_tests,\n",
    "          steps_per_epoch = total_data / batchSize,\n",
    "          epochs = 50,\n",
    "          validation_steps = (total_data / batchSize) / 10,\n",
    "          callbacks = [\n",
    "            callbacks.ModelCheckpoint(\n",
    "                filepath = 'ModelCheckpoint/model.{epoch:02d}-{val_loss:.2f}.h5'\n",
    "            )\n",
    "          ]\n",
    ")\n",
    "\n",
    "model.save('model')"
   ]
  }
 ],
 "metadata": {
  "kernelspec": {
   "display_name": "Python 3",
   "language": "python",
   "name": "python3"
  },
  "language_info": {
   "codemirror_mode": {
    "name": "ipython",
    "version": 3
   },
   "file_extension": ".py",
   "mimetype": "text/x-python",
   "name": "python",
   "nbconvert_exporter": "python",
   "pygments_lexer": "ipython3",
   "version": "3.11.4"
  }
 },
 "nbformat": 4,
 "nbformat_minor": 2
}
